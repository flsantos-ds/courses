{
  "nbformat": 4,
  "nbformat_minor": 0,
  "metadata": {
    "colab": {
      "provenance": [],
      "authorship_tag": "ABX9TyPsqkyRsJpKvtAMXIMi5kU2",
      "include_colab_link": true
    },
    "kernelspec": {
      "name": "python3",
      "display_name": "Python 3"
    },
    "language_info": {
      "name": "python"
    }
  },
  "cells": [
    {
      "cell_type": "markdown",
      "metadata": {
        "id": "view-in-github",
        "colab_type": "text"
      },
      "source": [
        "<a href=\"https://colab.research.google.com/github/flsantos-ds/courses/blob/main/Python_Impressionador_Modulo_06_Condicoes.ipynb\" target=\"_parent\"><img src=\"https://colab.research.google.com/assets/colab-badge.svg\" alt=\"Open In Colab\"/></a>"
      ]
    },
    {
      "cell_type": "markdown",
      "source": [
        "# **Condições no Python - IF**"
      ],
      "metadata": {
        "id": "m5YNHdi_euYg"
      }
    },
    {
      "cell_type": "markdown",
      "source": [
        "## **Exemplo Real (informações 100% hipotéticas e Inventada)**\n",
        "\n",
        "Digamos que você trabalha na Amazon (que tem centanas de milhares, se não milhões de produtos) e e está analisamndo o resultado de vendas dos produtos.\n",
        "\n",
        "Você precisa criar um progroama que vai analisar o resultado de vendas dos produtos da Amazon em um mês.\n",
        "\n",
        "Para simplificar vamos pensar em um único produto: Um Iphone.\n",
        "\n",
        "Meta de Vendas do Iphone = 50.000 unidades\n",
        "Quantidade vendida no mês = 65.300 unidades\n",
        "\n",
        "O seu programa deve avisar (usaremos o pirnto por enquanto) caso o produto tenha batido a meta do mês. Então devemos fazer:\n",
        "\n",
        "\n",
        "*   Caso o produto tenha batido a meta, devemos exibir a mensagem \"Batemos a meta de vendas de Iphone, vendemos {} unidades\"\n",
        "*   Se náo bateu a meta do mês, o seu programa não deve fazer nada\n",
        "\n"
      ],
      "metadata": {
        "id": "VT_6e7mOfJCR"
      }
    },
    {
      "cell_type": "code",
      "source": [
        "meta = 50000\n",
        "qtde_vendida = 65300\n",
        "\n",
        "if qtde_vendida >= meta:\n",
        "    print('Batemos a meta de vendas de Iphone, vendemos {} unidades'.format(qtde_vendida))"
      ],
      "metadata": {
        "colab": {
          "base_uri": "https://localhost:8080/"
        },
        "id": "kU7mC0XBe1ol",
        "outputId": "12ea104f-c738-484d-97bb-851218ea88ec"
      },
      "execution_count": null,
      "outputs": [
        {
          "output_type": "stream",
          "name": "stdout",
          "text": [
            "Batemos a meta de vendas de Iphone, vendemos 65300 unidades\n"
          ]
        }
      ]
    },
    {
      "cell_type": "markdown",
      "source": [
        "## **Tratando a condição se Falsa:**\n",
        "\n",
        "Quando usamos o if, nem sempre queremos analisar o caso verdadeiro, em boa parte das vezes queremos fazer alguma coisa caso a condição seja verdadeira e fazer outra caso a condição seja falta.\n",
        "\n",
        "Nesse caso usaremos:"
      ],
      "metadata": {
        "id": "2u5S__SGoCQj"
      }
    },
    {
      "cell_type": "code",
      "source": [
        "condicao = ''\n",
        "\n",
        "if condicao:\n",
        "    'o que eu quero fazer caso a condição seja verdadeira'\n",
        "else:\n",
        "    'o que eu quero fazer caso a condição seja falta'"
      ],
      "metadata": {
        "id": "uRVOEL4UaQq4"
      },
      "execution_count": null,
      "outputs": []
    },
    {
      "cell_type": "markdown",
      "source": [
        "Voltando ao nosso exemplo real da Amazon e do Iphone, agora nosso programa deve avisar nos 2 casos:\n",
        "\n",
        "* Caso o produto tenha batido a meta, devemos exibir a mensagem \"Batemos a meta de vendas do Iphone, vendemos {} unidades\"\n",
        "* Se caso não bateu a meta do mês, devemos exibir a mensagem. \"Infelizmente não batemos a meta, vendemos {} unidades. A meta era {} unidades\""
      ],
      "metadata": {
        "id": "cb1KxPIXo3fg"
      }
    },
    {
      "cell_type": "code",
      "source": [
        "meta = 50000\n",
        "qtde_vendida = 15000\n",
        "\n",
        "if qtde_vendida > meta:\n",
        "    print('Batemos a meta de vendas de Iphone, vendemos {} unidades'.format(qtde_vendida))\n",
        "else:\n",
        "    print('Infelizmente não batemos a meta, vendemos {} unidades. A meta era de {} unidades'.format(qtde_vendida, meta))"
      ],
      "metadata": {
        "colab": {
          "base_uri": "https://localhost:8080/"
        },
        "id": "Jrn6qMHwYZrb",
        "outputId": "e4d338a8-df00-45f7-9424-5809079b75f7"
      },
      "execution_count": 11,
      "outputs": [
        {
          "output_type": "stream",
          "name": "stdout",
          "text": [
            "Infelizmente não batemos a meta, vendemos 15000 unidades. A meta era de 50000 unidades\n"
          ]
        }
      ]
    },
    {
      "cell_type": "markdown",
      "source": [
        "## **Bloco de Identação**\n"
      ],
      "metadata": {
        "id": "FWjIuWzrZcpO"
      }
    },
    {
      "cell_type": "markdown",
      "source": [
        "### **Estrutura**\n",
        "\n",
        "Sempre que usamos o if ou qualquer estrutura no Python, devemos usar a identação para dizer para o Programa onde a estrutura começae onde ela termina.\n",
        "\n",
        "Isso vai ajudar muito quando tivermos mais de 1 condição ao mesmo tempo e quando tivermos várias ações ara fazer dentro de um if.\n"
      ],
      "metadata": {
        "id": "a7LCu4bqZt4I"
      }
    },
    {
      "cell_type": "markdown",
      "source": [
        "### **Exemplo**\n",
        "\n",
        "Vamos fazer um novo exemplo abaixo:\n",
        "\n",
        "Digamos que você precisa criar um programa para um fundo de investimento conseguir avaliar o resultado de uma carteira de ações e quanto de taxa deverá ser pago.\n",
        "\n",
        "A regra desse fundo de investimento é:\n",
        "\n",
        "* O fundo se compromete a entregar no mínimo 5% de retorno ao ano.\n",
        "* Caso o fundo não consiga os 5% de retorno, ele pode não cobrar taxa dos seus investidores.\n",
        "* Caso o fundo consiga entregar mais de 5% de retorno, ele irá cobrar 2% de taxa dos seus investidores.\n",
        "* Caso o fundo consiga mais de 20% de retorno, ele irá cobrar 4% de taxa dos seus investidores."
      ],
      "metadata": {
        "id": "1GLwyrvZaS6L"
      }
    },
    {
      "cell_type": "code",
      "source": [
        "meta = 0.05\n",
        "taxa = 0\n",
        "rendimento = 0.25\n",
        "\n",
        "if rendimento > meta:\n",
        "    if rendimento > 0.20:\n",
        "        taxa = 0.04\n",
        "        print('A taxa foi de {}'.format(taxa))\n",
        "    else:\n",
        "        taxa = 0.02\n",
        "        print('A taxa foi de {}'.format(taxa))\n",
        "else:\n",
        "    taxa = 0\n",
        "    print('A taxa foi de {}'.format(taxa))"
      ],
      "metadata": {
        "colab": {
          "base_uri": "https://localhost:8080/"
        },
        "id": "d6u-oTI9ZtAg",
        "outputId": "d96b8a9f-9e1d-4a11-b851-99af43eee1ef"
      },
      "execution_count": 12,
      "outputs": [
        {
          "output_type": "stream",
          "name": "stdout",
          "text": [
            "A taxa foi de 0.04\n"
          ]
        }
      ]
    }
  ]
}