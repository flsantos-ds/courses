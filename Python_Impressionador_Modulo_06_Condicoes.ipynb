{
  "nbformat": 4,
  "nbformat_minor": 0,
  "metadata": {
    "colab": {
      "provenance": [],
      "authorship_tag": "ABX9TyMAhfuw50USClyhgTDsXJHS",
      "include_colab_link": true
    },
    "kernelspec": {
      "name": "python3",
      "display_name": "Python 3"
    },
    "language_info": {
      "name": "python"
    }
  },
  "cells": [
    {
      "cell_type": "markdown",
      "metadata": {
        "id": "view-in-github",
        "colab_type": "text"
      },
      "source": [
        "<a href=\"https://colab.research.google.com/github/flsantos-ds/courses/blob/main/Python_Impressionador_Modulo_06_Condicoes.ipynb\" target=\"_parent\"><img src=\"https://colab.research.google.com/assets/colab-badge.svg\" alt=\"Open In Colab\"/></a>"
      ]
    },
    {
      "cell_type": "markdown",
      "source": [
        "## **Condições no Python - IF**"
      ],
      "metadata": {
        "id": "m5YNHdi_euYg"
      }
    },
    {
      "cell_type": "markdown",
      "source": [
        "## **Exemplo Real (informações 100% hipotéticas e Inventada)**\n",
        "\n",
        "Digamos que você trabalha na Amazon (que tem centanas de milhares, se não milhões de produtos) e e está analisamndo o resultado de vendas dos produtos.\n",
        "\n",
        "Você precisa criar um progroama que vai analisar o resultado de vendas dos produtos da Amazon em um mês.\n",
        "\n",
        "Para simplificar vamos pensar em um único produto: Um Iphone.\n",
        "\n",
        "Meta de Vendas do Iphone = 50.000 unidades\n",
        "Quantidade vendida no mês = 65.300 unidades\n",
        "\n",
        "O seu programa deve avisar (usaremos o pirnto por enquanto) caso o produto tenha batido a meta do mês. Então devemos fazer:\n",
        "\n",
        "\n",
        "*   Caso o produto tenha batido a meta, devemos exibir a mensagem \"Batemos a meta de vendas de Iphone, vendemos {} unidades\"\n",
        "*   Se náo bateu a meta do mês, o seu programa não deve fazer nada\n",
        "\n"
      ],
      "metadata": {
        "id": "VT_6e7mOfJCR"
      }
    },
    {
      "cell_type": "code",
      "source": [
        "meta = 50000\n",
        "qtde_vendida = 65300\n",
        "\n",
        "if qtde_vendida >= meta:\n",
        "    print('Batemos a meta de vendas de Iphone, vendemos {} unidades'.format(qtde_vendida))"
      ],
      "metadata": {
        "colab": {
          "base_uri": "https://localhost:8080/"
        },
        "id": "kU7mC0XBe1ol",
        "outputId": "12ea104f-c738-484d-97bb-851218ea88ec"
      },
      "execution_count": 4,
      "outputs": [
        {
          "output_type": "stream",
          "name": "stdout",
          "text": [
            "Batemos a meta de vendas de Iphone, vendemos 65300 unidades\n"
          ]
        }
      ]
    },
    {
      "cell_type": "markdown",
      "source": [
        "## **Tratando a condição se Falsa:**\n",
        "\n",
        "Quando usamos o if, nem sempre queremos analisar o caso verdadeiro, em boa parte das vezes queremos fazer alguma coisa caso a condição seja verdadeira e fazer outra caso a condição seja falta.\n",
        "\n",
        "Nesse caso usaremos:"
      ],
      "metadata": {
        "id": "2u5S__SGoCQj"
      }
    },
    {
      "cell_type": "code",
      "source": [
        "condicao = ''\n",
        "\n",
        "if condicao:\n",
        "    'o que eu quero fazer caso a condição seja verdadeira'\n",
        "else:\n",
        "    'o que eu quero fazer caso a condição seja falta'"
      ],
      "metadata": {
        "id": "uRVOEL4UaQq4"
      },
      "execution_count": 2,
      "outputs": []
    },
    {
      "cell_type": "markdown",
      "source": [
        "Voltando ao nosso exempleo"
      ],
      "metadata": {
        "id": "cb1KxPIXo3fg"
      }
    }
  ]
}